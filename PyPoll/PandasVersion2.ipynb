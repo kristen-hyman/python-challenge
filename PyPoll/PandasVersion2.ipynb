{
 "cells": [
  {
   "cell_type": "code",
   "execution_count": 6,
   "metadata": {},
   "outputs": [],
   "source": [
    "import pandas as pd"
   ]
  },
  {
   "cell_type": "code",
   "execution_count": 7,
   "metadata": {},
   "outputs": [],
   "source": [
    "PollingData = \"election_data.csv\""
   ]
  },
  {
   "cell_type": "code",
   "execution_count": 8,
   "metadata": {},
   "outputs": [
    {
     "data": {
      "text/html": [
       "<div>\n",
       "<style scoped>\n",
       "    .dataframe tbody tr th:only-of-type {\n",
       "        vertical-align: middle;\n",
       "    }\n",
       "\n",
       "    .dataframe tbody tr th {\n",
       "        vertical-align: top;\n",
       "    }\n",
       "\n",
       "    .dataframe thead th {\n",
       "        text-align: right;\n",
       "    }\n",
       "</style>\n",
       "<table border=\"1\" class=\"dataframe\">\n",
       "  <thead>\n",
       "    <tr style=\"text-align: right;\">\n",
       "      <th></th>\n",
       "      <th>Voter ID</th>\n",
       "      <th>County</th>\n",
       "      <th>Candidate</th>\n",
       "    </tr>\n",
       "  </thead>\n",
       "  <tbody>\n",
       "    <tr>\n",
       "      <th>0</th>\n",
       "      <td>12864552</td>\n",
       "      <td>Marsh</td>\n",
       "      <td>Khan</td>\n",
       "    </tr>\n",
       "    <tr>\n",
       "      <th>1</th>\n",
       "      <td>17444633</td>\n",
       "      <td>Marsh</td>\n",
       "      <td>Correy</td>\n",
       "    </tr>\n",
       "    <tr>\n",
       "      <th>2</th>\n",
       "      <td>19330107</td>\n",
       "      <td>Marsh</td>\n",
       "      <td>Khan</td>\n",
       "    </tr>\n",
       "    <tr>\n",
       "      <th>3</th>\n",
       "      <td>19865775</td>\n",
       "      <td>Queen</td>\n",
       "      <td>Khan</td>\n",
       "    </tr>\n",
       "    <tr>\n",
       "      <th>4</th>\n",
       "      <td>11927875</td>\n",
       "      <td>Marsh</td>\n",
       "      <td>Khan</td>\n",
       "    </tr>\n",
       "  </tbody>\n",
       "</table>\n",
       "</div>"
      ],
      "text/plain": [
       "   Voter ID County Candidate\n",
       "0  12864552  Marsh      Khan\n",
       "1  17444633  Marsh    Correy\n",
       "2  19330107  Marsh      Khan\n",
       "3  19865775  Queen      Khan\n",
       "4  11927875  Marsh      Khan"
      ]
     },
     "execution_count": 8,
     "metadata": {},
     "output_type": "execute_result"
    }
   ],
   "source": [
    "ElectionData_df = pd.read_csv(PollingData, encoding=\"ISO-8859-1\")\n",
    "ElectionData_df.head()"
   ]
  },
  {
   "cell_type": "code",
   "execution_count": 9,
   "metadata": {},
   "outputs": [
    {
     "data": {
      "text/plain": [
       "3521001"
      ]
     },
     "execution_count": 9,
     "metadata": {},
     "output_type": "execute_result"
    }
   ],
   "source": [
    "#The total number of votes cast\n",
    "votecount = ElectionData_df[\"Voter ID\"].count()\n",
    "votecount"
   ]
  },
  {
   "cell_type": "code",
   "execution_count": 10,
   "metadata": {},
   "outputs": [
    {
     "data": {
      "text/plain": [
       "array(['Khan', 'Correy', 'Li', \"O'Tooley\"], dtype=object)"
      ]
     },
     "execution_count": 10,
     "metadata": {},
     "output_type": "execute_result"
    }
   ],
   "source": [
    "#A complete list of candidates who received votes\n",
    "ElectionData_df[\"Candidate\"].unique()"
   ]
  },
  {
   "cell_type": "code",
   "execution_count": 14,
   "metadata": {},
   "outputs": [
    {
     "data": {
      "text/plain": [
       "704200"
      ]
     },
     "execution_count": 14,
     "metadata": {},
     "output_type": "execute_result"
    }
   ],
   "source": [
    "##The total number of votes each candidate won\n",
    "\n",
    "KhanData_df = ElectionData_df.loc[ElectionData_df[\"Candidate\"] == \"Khan\", :]\n",
    "KhanCount = KhanData_df[\"Voter ID\"].count()\n",
    "KhanCount\n",
    "\n",
    "CorreyData_df = ElectionData_df.loc[ElectionData_df[\"Candidate\"] == \"Correy\", :]\n",
    "CorreyCount = CorreyData_df[\"Voter ID\"].count()\n",
    "CorreyCount\n",
    "\n",
    "LiData_df = ElectionData_df.loc[ElectionData_df[\"Candidate\"] == \"Li\", :]\n",
    "LiCount = LiData_df[\"Voter ID\"].count()\n",
    "LiCount\n",
    "\n",
    "OtooleyData_df = ElectionData_df.loc[ElectionData_df[\"Candidate\"] == \"O'Tooley\", :]\n",
    "OtooleyCount = OtooleyData_df[\"Voter ID\"].count()\n",
    "OtooleyCount"
   ]
  },
  {
   "cell_type": "code",
   "execution_count": 32,
   "metadata": {},
   "outputs": [],
   "source": [
    "#The percentage of votes each candidate won\n",
    "KhanPercentage = KhanCount/ ElectionData_df[\"Voter ID\"].count()              \n",
    "CorreyPercentage = CorreyCount/ ElectionData_df[\"Voter ID\"].count()\n",
    "LiPercentage = LiCount/ElectionData_df[\"Voter ID\"].count()\n",
    "OtooleyPercentage = OtooleyCount / ElectionData_df[\"Voter ID\"].count()\n",
    "\n",
    "KhanRound = (KhanPercentage * 100).round(decimals=2, out=None)\n",
    "CorreyRound = (CorreyPercentage * 100).round(decimals=2, out=None)\n",
    "LiRound = (LiPercentage * 100).round(decimals=2, out=None)\n",
    "OtooleyRound = (OtooleyPercentage * 100).round(decimals=2, out=None)\n"
   ]
  },
  {
   "cell_type": "code",
   "execution_count": 49,
   "metadata": {},
   "outputs": [
    {
     "ename": "TypeError",
     "evalue": "'type' object is not subscriptable",
     "output_type": "error",
     "traceback": [
      "\u001b[1;31m---------------------------------------------------------------------------\u001b[0m",
      "\u001b[1;31mTypeError\u001b[0m                                 Traceback (most recent call last)",
      "\u001b[1;32m<ipython-input-49-b81947c73262>\u001b[0m in \u001b[0;36m<module>\u001b[1;34m()\u001b[0m\n\u001b[1;32m----> 1\u001b[1;33m \u001b[0mResults_df\u001b[0m \u001b[1;33m=\u001b[0m \u001b[0mpd\u001b[0m\u001b[1;33m.\u001b[0m\u001b[0mDataFrame\u001b[0m\u001b[1;33m[\u001b[0m\u001b[1;33m{\u001b[0m\u001b[1;34m\"Khan\"\u001b[0m\u001b[1;33m:\u001b[0m \u001b[1;33m{\u001b[0m\u001b[0mKhanRound\u001b[0m\u001b[1;33m}\u001b[0m\u001b[1;33m,\u001b[0m \u001b[1;34m\"Correy\"\u001b[0m\u001b[1;33m:\u001b[0m\u001b[1;33m{\u001b[0m\u001b[0mCorreyPercentage\u001b[0m\u001b[1;33m}\u001b[0m\u001b[1;33m}\u001b[0m\u001b[1;33m]\u001b[0m\u001b[1;33m\u001b[0m\u001b[0m\n\u001b[0m\u001b[0;32m      2\u001b[0m \u001b[0mResults_df\u001b[0m\u001b[1;33m\u001b[0m\u001b[0m\n",
      "\u001b[1;31mTypeError\u001b[0m: 'type' object is not subscriptable"
     ]
    }
   ],
   "source": [
    "Results_df = pd.DataFrame[{\"Khan\": {KhanRound}, \"Correy\":{CorreyPercentage}}]\n",
    "Results_df"
   ]
  },
  {
   "cell_type": "code",
   "execution_count": 45,
   "metadata": {},
   "outputs": [
    {
     "name": "stdout",
     "output_type": "stream",
     "text": [
      "Election Results\n",
      "----------------------------\n",
      "Total Votes:   3521001 \n",
      "Khan: 63.0 %  (2218231)\n",
      "Correy: 20.0 %  (704200)\n",
      "Li: 14.0 % (492940)\n",
      "OTooley: 3.0 % (105630)\n",
      "----------------------------\n",
      "Winner: Khan \n",
      "----------------------------\n"
     ]
    }
   ],
   "source": [
    "#The winner of the election based on popular vote.\n",
    "print('Election Results')\n",
    "print('----------------------------')\n",
    "print(f'Total Votes:   {votecount} ')\n",
    "print(f'Khan: {KhanRound} %  ({KhanCount})')\n",
    "print(f'Correy: {CorreyRound} %  ({CorreyCount})')\n",
    "print(f'Li: {LiRound} % ({LiCount})')\n",
    "print(f'OTooley: {OtooleyRound} % ({OtooleyCount})')\n",
    "print('----------------------------')\n",
    "\n",
    "print(f'Winner: Khan ')\n",
    "print('----------------------------')"
   ]
  },
  {
   "cell_type": "code",
   "execution_count": null,
   "metadata": {},
   "outputs": [],
   "source": []
  }
 ],
 "metadata": {
  "kernelspec": {
   "display_name": "Python [conda env:PythonData]",
   "language": "python",
   "name": "conda-env-PythonData-py"
  },
  "language_info": {
   "codemirror_mode": {
    "name": "ipython",
    "version": 3
   },
   "file_extension": ".py",
   "mimetype": "text/x-python",
   "name": "python",
   "nbconvert_exporter": "python",
   "pygments_lexer": "ipython3",
   "version": "3.6.5"
  }
 },
 "nbformat": 4,
 "nbformat_minor": 2
}
